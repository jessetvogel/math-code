{
 "cells": [
  {
   "cell_type": "code",
   "execution_count": null,
   "id": "3521f40e-427d-45f3-a634-a1597e95a3a5",
   "metadata": {},
   "outputs": [],
   "source": [
    "import sympy as sp"
   ]
  },
  {
   "cell_type": "code",
   "execution_count": null,
   "id": "43437154-cd6d-42b0-8619-a2cd653beadb",
   "metadata": {},
   "outputs": [],
   "source": [
    "q, s = sp.symbols('q s')"
   ]
  },
  {
   "cell_type": "code",
   "execution_count": null,
   "id": "359bbb5a-7b43-4297-b571-7165f746598c",
   "metadata": {},
   "outputs": [],
   "source": [
    "# Simplify (a^b)^c to a^(b * c)\n",
    "# Simplify (a * b)^c to a^c * b^c\n",
    "def unfold_exponents(expr):\n",
    "    if expr.is_Pow and expr.args[0].is_Pow:\n",
    "        return unfold_exponents(sp.factor(expr.args[0].args[0]) ** (expr.args[0].args[1] * expr.args[1]))\n",
    "    \n",
    "    if expr.is_Pow and expr.args[0].is_Mul:\n",
    "        return unfold_exponents(sp.Mul(*[ f ** expr.args[1] for f in expr.args[0].args ]))\n",
    "    \n",
    "    if expr.is_Pow and sp.factor(expr.args[0]) != expr.args[0]:\n",
    "        return unfold_exponents(sp.factor(expr.args[0]) ** expr.args[1])\n",
    "\n",
    "    if expr.is_Mul:\n",
    "        return sp.Mul(*[ unfold_exponents(factor) for factor in expr.args ])\n",
    "    \n",
    "    if expr.is_Add:\n",
    "        return sp.Add(*[ unfold_exponents(term) for term in expr.args ])\n",
    "    \n",
    "    return expr"
   ]
  },
  {
   "cell_type": "code",
   "execution_count": null,
   "id": "e8e38e1d-657f-4378-8ba8-e4530d073432",
   "metadata": {},
   "outputs": [],
   "source": [
    "# Simplifies a zeta function in terms of q and s\n",
    "def simplify_zeta(expr):\n",
    "    expr = sp.expand(expr)\n",
    "    expr = unfold_exponents(expr)\n",
    "\n",
    "    if expr.is_Pow:\n",
    "        return expr\n",
    "    \n",
    "    # Store the coefficients belonging to each q^(as) * (q - 1)^(bs)\n",
    "    coeffs = {}\n",
    "    terms = expr.args if expr.is_Add else [ expr ]\n",
    "    for term in terms:\n",
    "        a = 0 # linear coefficient of s in power of q\n",
    "        b = 0 # linear coefficient of s in power of (q - 1)\n",
    "        coeff = 1 # coefficient\n",
    "        factors = term.args if term.is_Mul else [ term ]\n",
    "        for factor in factors:\n",
    "            if factor.is_Pow and factor.args[0] == q:\n",
    "                [u], v = sp.reduced(factor.args[1], [ s ])\n",
    "                a += u\n",
    "                coeff *= q**v\n",
    "            elif factor.is_Pow and factor.args[0] == q - 1:\n",
    "                [u], v = sp.reduced(factor.args[1], [ s ])\n",
    "                b += u\n",
    "                coeff *= (q - 1)**v\n",
    "            else:\n",
    "                coeff *= factor\n",
    "            \n",
    "        # Update coeffs\n",
    "        coeffs[(a, b)] = coeffs[(a, b)] + coeff if (a, b) in coeffs else coeff\n",
    "    \n",
    "    # Create new expression from coeffs\n",
    "    total = 0\n",
    "    for (a, b) in sorted(coeffs.keys()):\n",
    "        coeff = sp.factor(coeffs[(a, b)])\n",
    "        # Find powers c and d of q and (q - 1), respectively, in coeff\n",
    "        c, d = 0, 0        \n",
    "        factors = coeff.args if coeff.is_Mul else [ coeff ]\n",
    "        for factor in factors:\n",
    "            if factor.is_Pow and factor.args[0] == q:\n",
    "                c += factor.args[1]\n",
    "            elif factor.is_Pow and factor.args[0] == q - 1:\n",
    "                d += factor.args[1]\n",
    "            elif factor == q:\n",
    "                c += 1\n",
    "            elif factor == q - 1:\n",
    "                d += 1\n",
    "        \n",
    "        total += sp.factor(coeffs[(a, b)] * q**(-c) * (q - 1)**(-d)) * q**(a*s + c) * (q - 1)**(b*s + d)\n",
    "    return total"
   ]
  },
  {
   "cell_type": "code",
   "execution_count": null,
   "id": "2d7919d9-054a-404a-8fb0-d6b05cfb3a80",
   "metadata": {},
   "outputs": [],
   "source": [
    "simplify_zeta((q - 1)**6 + (q - 1)/(q - 1)**(5*s) + 5*(q - 1)**(2 - 4*s) + 10*(q - 1)**(3 - 3*s) + 10*(q - 1)**(4 - 2*s) + 5*(q - 1)**(5 - s) + 13*(q - 1)**(2 - 4*s)/q**s + 21*(q - 1)**(3 - 3*s)/q**s + 15*(q - 1)**(4 - 2*s)/q**s + 4*(q - 1)**(5 - s)/q**s + (3*q - 3)/(q**s*(q - 1)**(5*s)) + (q - 1)*(q + 7)/(q**(2*s)*(q - 1)**(5*s)) + 23*(q - 1)**(2 - 4*s)/q**(2*s) + 29*(q - 1)**(3 - 3*s)/q**(2*s) + 16*(q - 1)**(4 - 2*s)/q**(2*s) + 3*(q - 1)**(5 - s)/q**(2*s) + 17*(q - 1)**(2 - 4*s)/q**(3*s) + 24*(q - 1)**(3 - 3*s)/q**(3*s) + 13*(q - 1)**(4 - 2*s)/q**(3*s) + 2*(q - 1)**(5 - s)/q**(3*s) + (4*q - 4)/(q**(3*s)*(q - 1)**(5*s)) + 10*(q - 1)**(2 - 4*s)/q**(4*s) + 15*(q - 1)**(3 - 3*s)/q**(4*s) + 7*(q - 1)**(4 - 2*s)/q**(4*s) + (q - 1)**(5 - s)/q**(4*s) + (2*q - 2)/(q**(4*s)*(q - 1)**(5*s)) + 2*(q - 1)**(2 - 4*s)/q**(5*s) + 5*(q - 1)**(3 - 3*s)/q**(5*s) + 3*(q - 1)**(4 - 2*s)/q**(5*s) + (q - 1)**(3 - 3*s)/q**(6*s) + (q - 1)**(4 - 2*s)/q**(6*s))"
   ]
  },
  {
   "cell_type": "code",
   "execution_count": null,
   "id": "b8a45dd3-823a-48d1-bf37-a8fe06bb27af",
   "metadata": {},
   "outputs": [],
   "source": [
    "(q - 1)**6 + (q - 1)/(q - 1)**(5*s) + 5*(q - 1)**(2 - 4*s) + 10*(q - 1)**(3 - 3*s) + 10*(q - 1)**(4 - 2*s) + 5*(q - 1)**(5 - s) + 13*(q - 1)**(2 - 4*s)/q**s + 21*(q - 1)**(3 - 3*s)/q**s + 15*(q - 1)**(4 - 2*s)/q**s + 4*(q - 1)**(5 - s)/q**s + (3*q - 3)/(q**s*(q - 1)**(5*s)) + (q - 1)*(q + 7)/(q**(2*s)*(q - 1)**(5*s)) + 23*(q - 1)**(2 - 4*s)/q**(2*s) + 29*(q - 1)**(3 - 3*s)/q**(2*s) + 16*(q - 1)**(4 - 2*s)/q**(2*s) + 3*(q - 1)**(5 - s)/q**(2*s) + 17*(q - 1)**(2 - 4*s)/q**(3*s) + 24*(q - 1)**(3 - 3*s)/q**(3*s) + 13*(q - 1)**(4 - 2*s)/q**(3*s) + 2*(q - 1)**(5 - s)/q**(3*s) + (4*q - 4)/(q**(3*s)*(q - 1)**(5*s)) + 10*(q - 1)**(2 - 4*s)/q**(4*s) + 15*(q - 1)**(3 - 3*s)/q**(4*s) + 7*(q - 1)**(4 - 2*s)/q**(4*s) + (q - 1)**(5 - s)/q**(4*s) + (2*q - 2)/(q**(4*s)*(q - 1)**(5*s)) + 2*(q - 1)**(2 - 4*s)/q**(5*s) + 5*(q - 1)**(3 - 3*s)/q**(5*s) + 3*(q - 1)**(4 - 2*s)/q**(5*s) + (q - 1)**(3 - 3*s)/q**(6*s) + (q - 1)**(4 - 2*s)/q**(6*s)"
   ]
  },
  {
   "cell_type": "code",
   "execution_count": null,
   "id": "defbf28c",
   "metadata": {},
   "outputs": [],
   "source": []
  }
 ],
 "metadata": {
  "kernelspec": {
   "display_name": "Python 3",
   "language": "python",
   "name": "python3"
  },
  "language_info": {
   "codemirror_mode": {
    "name": "ipython",
    "version": 3
   },
   "file_extension": ".py",
   "mimetype": "text/x-python",
   "name": "python",
   "nbconvert_exporter": "python",
   "pygments_lexer": "ipython3",
   "version": "3.10.8"
  },
  "vscode": {
   "interpreter": {
    "hash": "aee8b7b246df8f9039afb4144a1f6fd8d2ca17a180786b69acc140d282b71a49"
   }
  }
 },
 "nbformat": 4,
 "nbformat_minor": 5
}
