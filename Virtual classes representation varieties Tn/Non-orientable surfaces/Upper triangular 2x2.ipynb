{
 "cells": [
  {
   "cell_type": "code",
   "execution_count": 1,
   "metadata": {},
   "outputs": [],
   "source": [
    "from solver import *"
   ]
  },
  {
   "cell_type": "markdown",
   "metadata": {},
   "source": [
    "### Compute the matrix $Z_\\pi(N)$"
   ]
  },
  {
   "cell_type": "code",
   "execution_count": 2,
   "metadata": {},
   "outputs": [],
   "source": [
    "a, b, x, y, t = sp.symbols('a b x y t')"
   ]
  },
  {
   "cell_type": "code",
   "execution_count": 3,
   "metadata": {},
   "outputs": [],
   "source": [
    "# Create solvers and set dictionary\n",
    "s_KVar_k = Solver()\n",
    "s_KVar_t = Solver()\n",
    "\n",
    "# S = [ (a, t) : a^2 = t ]\n",
    "S = sp.Symbol('S')\n",
    "\n",
    "s_KVar_t.dictionary.append(([ sp.Poly(t, t) ], 0))\n",
    "s_KVar_t.dictionary.append(([ sp.Poly(t - 1, t) ], 0))\n",
    "s_KVar_t.dictionary.append(([ sp.Poly(a**2 - t, t, a) ], S))\n",
    "s_KVar_t.dictionary.append(([ sp.Poly(a**2*b**2 - t, t, a, b) ], (q - 1) * S))"
   ]
  },
  {
   "cell_type": "code",
   "execution_count": 4,
   "metadata": {},
   "outputs": [],
   "source": [
    "# Compute Z_pi_N\n",
    "Z_pi_N = sp.Matrix([[ 0, 0, 0 ], [ 0, 0, 0 ], [ 0, 0, 0 ]])\n",
    "\n",
    "Z_pi_N[0,0] = s_KVar_k.compute_class(System([ a**2 - 1, a*b + b ], [ a ], { a, b }))\n",
    "Z_pi_N[1,0] = s_KVar_k.compute_class(System([ a**2 - 1 ], [ a, a*b + b ], { a, b }))\n",
    "Z_pi_N[2,0] = s_KVar_t.compute_class(System([ a**2 - t ], [ a ], { a, b, t }, { t }))\n",
    "\n",
    "Z_pi_N[0,1] = s_KVar_k.compute_class(System([ a**2 - 1, a*b + b + x ], [ x, a ], { a, b, x }))\n",
    "Z_pi_N[1,1] = s_KVar_k.compute_class(System([ a**2 - 1 ], [ x, a,  a*b + b + x ], { a, b, x }))\n",
    "Z_pi_N[2,1] = s_KVar_t.compute_class(System([ a**2 - t ], [ x, a ], { a, b, x, t }, { t }))\n",
    "\n",
    "Z_pi_N[0,2] = s_KVar_k.compute_class(System([ a**2*y**2 - 1, y**2*(a*b + b) + x ], [ y, y**2 - 1, a ], { a, b, y, x }))\n",
    "Z_pi_N[1,2] = s_KVar_k.compute_class(System([ a**2*y**2 - 1 ], [ y, y**2 - 1, a, y**2*(a*b + b) + x ], { a, b, y, x }))\n",
    "Z_pi_N[2,2] = s_KVar_t.compute_class(System([ a**2*y**2 - t ], [ y, y**2 - 1, a ], { a, b, y, x, t }, { t }))"
   ]
  },
  {
   "cell_type": "code",
   "execution_count": 5,
   "metadata": {
    "scrolled": true
   },
   "outputs": [
    {
     "data": {
      "text/latex": [
       "$\\displaystyle \\left[\\begin{matrix}q + 1 & q - 1 & 2 q \\left(q - 3\\right)\\\\q - 1 & \\left(q - 1\\right) \\left(2 q - 1\\right) & 2 q \\left(q - 3\\right) \\left(q - 1\\right)\\\\q & q \\left(q - 1\\right) & q^{2} \\left(q - 3\\right)\\end{matrix}\\right]$"
      ],
      "text/plain": [
       "Matrix([\n",
       "[q + 1,             q - 1,         2*q*(q - 3)],\n",
       "[q - 1, (q - 1)*(2*q - 1), 2*q*(q - 3)*(q - 1)],\n",
       "[    q,         q*(q - 1),        q**2*(q - 3)]])"
      ]
     },
     "execution_count": 5,
     "metadata": {},
     "output_type": "execute_result"
    }
   ],
   "source": [
    "# Factor entries + for the relevant matrix, just evaluate S to 1\n",
    "for i in range(3):\n",
    "    for j in range(3):\n",
    "        Z_pi_N[i, j] = sp.factor(Z_pi_N[i, j].subs(S, 1))\n",
    "        \n",
    "Z_pi_N"
   ]
  },
  {
   "cell_type": "markdown",
   "metadata": {},
   "source": [
    "### Determine $\\tilde{Z}(N) = Z_\\pi(N) \\circ \\eta^{-1}$ and diagonalize"
   ]
  },
  {
   "cell_type": "code",
   "execution_count": 6,
   "metadata": {},
   "outputs": [
    {
     "data": {
      "text/latex": [
       "$\\displaystyle \\left[\\begin{matrix}q + 1 & 1 & 2 q - 6\\\\q - 1 & 2 q - 1 & 2 q^{2} - 8 q + 6\\\\q & q & q^{2} - 3 q\\end{matrix}\\right]$"
      ],
      "text/plain": [
       "Matrix([\n",
       "[q + 1,       1,          2*q - 6],\n",
       "[q - 1, 2*q - 1, 2*q**2 - 8*q + 6],\n",
       "[    q,       q,       q**2 - 3*q]])"
      ]
     },
     "execution_count": 6,
     "metadata": {},
     "output_type": "execute_result"
    }
   ],
   "source": [
    "# Construct eta and eta inverse\n",
    "eta = sp.Matrix([[ 1, 0, 0 ], [ 0, q - 1, 0], [ 0, 0, q ]])\n",
    "eta_inv = sp.Matrix([[ 1, 0, 0 ], [ 0, 1 / (q - 1), 0], [ 0, 0, 1 / q ]])\n",
    "\n",
    "# Compute Z_tilde_N = Z_pi_N * eta_inv\n",
    "Z_tilde_N = sp.expand(sp.simplify(Z_pi_N * eta_inv))\n",
    "\n",
    "Z_tilde_N"
   ]
  },
  {
   "cell_type": "code",
   "execution_count": 7,
   "metadata": {},
   "outputs": [],
   "source": [
    "# Diagonalize Z_tilde_N\n",
    "P, D = Z_tilde_N.diagonalize()"
   ]
  },
  {
   "cell_type": "code",
   "execution_count": 8,
   "metadata": {},
   "outputs": [
    {
     "data": {
      "text/latex": [
       "$\\displaystyle \\left[\\begin{matrix}\\frac{3 - q}{q} & -1 & \\frac{2}{q}\\\\- q + 4 - \\frac{3}{q} & 1 & 2 - \\frac{2}{q}\\\\1 & 0 & 1\\end{matrix}\\right]$"
      ],
      "text/plain": [
       "Matrix([\n",
       "[   (3 - q)/q, -1,     2/q],\n",
       "[-q + 4 - 3/q,  1, 2 - 2/q],\n",
       "[           1,  0,       1]])"
      ]
     },
     "execution_count": 8,
     "metadata": {},
     "output_type": "execute_result"
    }
   ],
   "source": [
    "P"
   ]
  },
  {
   "cell_type": "code",
   "execution_count": 9,
   "metadata": {},
   "outputs": [
    {
     "data": {
      "text/latex": [
       "$\\displaystyle \\left[\\begin{matrix}0 & 0 & 0\\\\0 & q & 0\\\\0 & 0 & q \\left(q - 1\\right)\\end{matrix}\\right]$"
      ],
      "text/plain": [
       "Matrix([\n",
       "[0, 0,         0],\n",
       "[0, q,         0],\n",
       "[0, 0, q*(q - 1)]])"
      ]
     },
     "execution_count": 9,
     "metadata": {},
     "output_type": "execute_result"
    }
   ],
   "source": [
    "D"
   ]
  },
  {
   "cell_type": "code",
   "execution_count": 10,
   "metadata": {},
   "outputs": [
    {
     "data": {
      "text/latex": [
       "$\\displaystyle \\frac{q^{r} \\left(q - 1\\right)}{q} + \\frac{2 q^{r} \\left(q - 1\\right)^{r}}{q \\left(q - 1\\right)}$"
      ],
      "text/plain": [
       "q**r*(q - 1)/q + 2*q**r*(q - 1)**r/(q*(q - 1))"
      ]
     },
     "execution_count": 10,
     "metadata": {},
     "output_type": "execute_result"
    }
   ],
   "source": [
    "# Obtain general formula by taking powers\n",
    "r = sp.Symbol('r')\n",
    "formula = (P * sp.Matrix([[ 0, 0, 0 ], [ 0, q**r, 0 ], [ 0, 0, q**r * (q - 1)**r ]]) * P.inv())[0, 0]\n",
    "\n",
    "formula"
   ]
  },
  {
   "cell_type": "markdown",
   "metadata": {},
   "source": [
    "### Manually compute class for small cases, and compare to the obtained formula"
   ]
  },
  {
   "cell_type": "code",
   "execution_count": 11,
   "metadata": {},
   "outputs": [],
   "source": [
    "a, b, c, d, e, f, g, h, i, j = sp.symbols('a b c d e f g h i j')\n",
    "\n",
    "A = sp.Matrix([[ a, b ], [ 0, 1 ]])\n",
    "B = sp.Matrix([[ c, d ], [ 0, 1 ]])\n",
    "C = sp.Matrix([[ e, f ], [ 0, 1 ]])\n",
    "D = sp.Matrix([[ g, h ], [ 0, 1 ]])\n",
    "E = sp.Matrix([[ i, j ], [ 0, 1 ]])"
   ]
  },
  {
   "cell_type": "code",
   "execution_count": 12,
   "metadata": {},
   "outputs": [
    {
     "name": "stdout",
     "output_type": "stream",
     "text": [
      "[ X(N_0) ] = 1\n",
      "[ X(N_1) ] = q + 1\n",
      "[ X(N_2) ] = 3*q*(q - 1)\n",
      "[ X(N_3) ] = q**2*(q - 1)*(2*q - 1)\n",
      "[ X(N_4) ] = q**3*(q - 1)*(2*q**2 - 4*q + 3)\n",
      "[ X(N_5) ] = q**4*(q - 1)*(2*q**3 - 6*q**2 + 6*q - 1)\n"
     ]
    }
   ],
   "source": [
    "solver = Solver()\n",
    "\n",
    "c_XN = [ 0 ] * 6\n",
    "\n",
    "c_XN[0] = 1\n",
    "M = A**2\n",
    "c_XN[1] = sp.factor(solver.compute_class(System([ M[0,0] - 1, M[0,1] ], [ a ], { a, b })))\n",
    "M = A**2 * B**2\n",
    "c_XN[2] = sp.factor(solver.compute_class(System([ M[0,0] - 1, M[0,1] ], [ a, c ], { a, b, c, d })))\n",
    "M = A**2 * B**2 * C**2\n",
    "c_XN[3] = sp.factor(solver.compute_class(System([ M[0,0] - 1, M[0,1] ], [ a, c, e ], { a, b, c, d, e, f })))\n",
    "M = A**2 * B**2 * C**2 * D**2\n",
    "c_XN[4] = sp.factor(solver.compute_class(System([ M[0,0] - 1, M[0,1] ], [ a, c, e, g ], { a, b, c, d, e, f, g, h })))\n",
    "M = A**2 * B**2 * C**2 * D**2 * E**2\n",
    "c_XN[5] = sp.factor(solver.compute_class(System([ M[0,0] - 1, M[0,1] ], [ a, c, e, g, i ], { a, b, c, d, e, f, g, h, i, j })))\n",
    "\n",
    "for i in range(6):\n",
    "    print('[ X(N_{}) ] = {}'.format(i, c_XN[i]))\n",
    "\n",
    "# [ X(N_0) ] = 1\n",
    "# [ X(N_1) ] = q + 1\n",
    "# [ X(N_2) ] = 3*q*(q - 1)\n",
    "# [ X(N_3) ] = q**2*(q - 1)*(2*q - 1)\n",
    "# [ X(N_4) ] = q**3*(q - 1)*(2*q**2 - 4*q + 3)\n",
    "# [ X(N_5) ] = q**4*(q - 1)*(2*q**3 - 6*q**2 + 6*q - 1)"
   ]
  },
  {
   "cell_type": "code",
   "execution_count": 13,
   "metadata": {
    "scrolled": false
   },
   "outputs": [
    {
     "name": "stdout",
     "output_type": "stream",
     "text": [
      "True\n",
      "True\n",
      "True\n",
      "True\n",
      "True\n"
     ]
    }
   ],
   "source": [
    "formula = q**(r - 1) * (q - 1) + 2*q**(r - 1) * (q - 1)**(r - 1)\n",
    "\n",
    "for i in range(1, 6):\n",
    "    print(sp.expand(c_XN[i] - formula.subs(r, i)) == 0)"
   ]
  },
  {
   "cell_type": "code",
   "execution_count": null,
   "metadata": {},
   "outputs": [],
   "source": []
  }
 ],
 "metadata": {
  "kernelspec": {
   "display_name": "Python 3",
   "language": "python",
   "name": "python3"
  },
  "language_info": {
   "codemirror_mode": {
    "name": "ipython",
    "version": 3
   },
   "file_extension": ".py",
   "mimetype": "text/x-python",
   "name": "python",
   "nbconvert_exporter": "python",
   "pygments_lexer": "ipython3",
   "version": "3.8.3"
  }
 },
 "nbformat": 4,
 "nbformat_minor": 4
}
