{
 "cells": [
  {
   "cell_type": "code",
   "execution_count": 7,
   "metadata": {},
   "outputs": [],
   "source": [
    "from solver import *"
   ]
  },
  {
   "cell_type": "markdown",
   "metadata": {},
   "source": [
    "The group of upper triangular $3 \\times 3$ matrices has 12 types of conjugacy classes. Based on this, we use the following stratification of $G = \\mathbb{U}_3$. In the code, we use zero-based indexing.\n",
    "\n",
    "$$ { \\mathcal{C}_1 = \\left\\{ \\begin{pmatrix} 1 & 0 & 0 \\\\ 0 & 1 & 0 \\\\ 0 & 0 & 1 \\end{pmatrix} \\right\\} }, \\qquad { \\mathcal{C}_2 = \\left\\{ \\begin{pmatrix} 1 & b & c \\\\ 0 & 1 & e \\\\ 0 & 0 & 1 \\end{pmatrix} : b, e \\ne 0 \\right\\} }, \\qquad { \\mathcal{C}_3 = \\left\\{ \\begin{pmatrix} 1 & b & c \\\\ 0 & 1 & 0 \\\\ 0 & 0 & 1 \\end{pmatrix} : b \\ne 0 \\right\\} }, $$\n",
    "\n",
    "$$ { \\mathcal{C}_4 = \\left\\{ \\begin{pmatrix} 1 & 0 & c \\\\ 0 & 1 & e \\\\ 0 & 0 & 1 \\end{pmatrix} : e \\ne 0 \\right\\} }, \\qquad { \\mathcal{C}_5 = \\left\\{ \\begin{pmatrix} 1 & 0 & c \\\\ 0 & 1 & 0 \\\\ 0 & 0 & 1 \\end{pmatrix} : c \\ne 0 \\right\\} } ; \\qquad { \\mathcal{C}_6 = \\left\\{ \\begin{pmatrix} 1 & b & c \\\\ 0 & t & e \\\\ 0 & 0 & 1 \\end{pmatrix} : \\begin{array}{c} t \\ne 0, 1, \\\\ c(t - 1) = be \\end{array} \\right\\} }, $$\n",
    "\n",
    "$$ { \\mathcal{C}_7 = \\left\\{ \\begin{pmatrix} 1 & b & c \\\\ 0 & t & e \\\\ 0 & 0 & 1 \\end{pmatrix} : \\begin{array}{c} t \\ne 0, 1, \\\\ c(t - 1) \\ne be \\end{array} \\right\\} }, \\qquad { \\mathcal{C}_8 = \\left\\{ \\begin{pmatrix} t & b & c \\\\ 0 & 1 & 0 \\\\ 0 & 0 & 1 \\end{pmatrix} : t \\ne 0, 1 \\right\\} }, \\qquad { \\mathcal{C}_9 = \\left\\{ \\begin{pmatrix} t & b & c \\\\ 0 & 1 & e \\\\ 0 & 0 & 1 \\end{pmatrix} : \\begin{array}{c} t \\ne 0, 1, \\\\ e \\ne 0 \\end{array} \\right\\} } , $$\n",
    "\n",
    "$$ { \\mathcal{C}_{10} = \\left\\{ \\begin{pmatrix} t & 0 & c \\\\ 0 & t & e \\\\ 0 & 0 & 1 \\end{pmatrix} : t \\ne 0, 1 \\right\\} }, \\qquad { \\mathcal{C}_{11} = \\left\\{ \\begin{pmatrix} t & b & c \\\\ 0 & t & e \\\\ 0 & 0 & 1 \\end{pmatrix} : \\begin{array}{c} t \\ne 0, 1, \\\\ b \\ne 0 \\end{array} \\right\\} }; \\qquad { \\mathcal{C}_{12} = \\left\\{ \\begin{pmatrix} t & b & c \\\\ 0 & s & e \\\\ 0 & 0 & 1 \\end{pmatrix} : \\begin{array}{c} t, s \\ne 0, 1, \\\\ t \\ne s \\end{array} \\right\\} } . $$"
   ]
  },
  {
   "cell_type": "markdown",
   "metadata": {},
   "source": [
    "### Define symbols"
   ]
  },
  {
   "cell_type": "code",
   "execution_count": 23,
   "metadata": {},
   "outputs": [],
   "source": [
    "n = 3\n",
    "\n",
    "t, s = sp.symbols('t s')\n",
    "x, y, z, a, b = sp.symbols('x y z a b')\n",
    "\n",
    "X = sp.Matrix([ [ (sp.Symbol('x_{{{},{}}}'.format(i, j)) if not (i == n - 1 and j == n - 1) else 1) if i <= j else 0 for j in range(n) ] for i in range(n) ])\n",
    "A = sp.Matrix([ [ (sp.Symbol('a_{{{},{}}}'.format(i, j)) if not (i == n - 1 and j == n - 1) else 1) if i <= j else 0 for j in range(n) ] for i in range(n) ])\n",
    "B = sp.Matrix([ [ (sp.Symbol('b_{{{},{}}}'.format(i, j)) if not (i == n - 1 and j == n - 1) else 1) if i <= j else 0 for j in range(n) ] for i in range(n) ])\n",
    "\n",
    "X_vars = { x for x in X if x != 0 and x != 1 }\n",
    "A_vars = { x for x in A if x != 0 and x != 1 }\n",
    "B_vars = { x for x in B if x != 0 and x != 1 }\n",
    "\n",
    "AB_vars = A_vars.union(B_vars)"
   ]
  },
  {
   "cell_type": "markdown",
   "metadata": {},
   "source": [
    "### Equations that define the strata $\\mathcal{C}_i$"
   ]
  },
  {
   "cell_type": "code",
   "execution_count": 10,
   "metadata": {},
   "outputs": [],
   "source": [
    "C_eqs = [ 0 ] * 12\n",
    "\n",
    "# 3 same eigenvalues\n",
    "C_eqs[0]  = ([ X[0,0] - 1, X[0,1], X[0,2], X[1,1] - 1, X[1,2] ], [ ])\n",
    "C_eqs[1]  = ([ X[0,0] - 1, X[1,1] - 1 ], [ X[0,1], X[1,2] ])\n",
    "C_eqs[2]  = ([ X[0,0] - 1, X[1,1] - 1, X[1,2] ], [ X[0,1] ])\n",
    "C_eqs[3]  = ([ X[0,0] - 1, X[0,1], X[1,1] - 1 ], [ X[1,2] ])\n",
    "C_eqs[4]  = ([ X[0,0] - 1, X[0,1], X[1,1] - 1, X[1,2] ], [ X[0,2] ])\n",
    "\n",
    "# 2 + 1 eigenvalues\n",
    "C_eqs[5]  = ([ X[0,0] - 1, X[1,1] - t, X[0,2] * (t - 1) - X[0,1] * X[1,2] ], [ t, t - 1 ])\n",
    "C_eqs[6]  = ([ X[0,0] - 1, X[1,1] - t ], [ X[0,2] * (t - 1) - X[0,1] * X[1,2], t, t - 1 ])\n",
    "C_eqs[7]  = ([ X[0,0] - t, X[1,1] - 1, X[1,2] ], [ t, t - 1 ])\n",
    "C_eqs[8]  = ([ X[0,0] - t, X[1,1] - 1 ], [ X[1,2], t, t - 1 ])\n",
    "C_eqs[9]  = ([ X[0,0] - t, X[1,1] - t, X[0,1] ], [ t, t - 1 ])\n",
    "C_eqs[10] = ([ X[0,0] - t, X[1,1] - t ], [ X[0,1], t, t - 1 ])\n",
    "\n",
    "# 1 + 1 + 1 eigenvalues\n",
    "C_eqs[11] = ([ X[0,0] - t, X[1,1] - s ], [ t, t - 1, s, s - 1, s - t ])"
   ]
  },
  {
   "cell_type": "markdown",
   "metadata": {},
   "source": [
    "### Representatives of the $\\mathcal{C}_i$, i.e. the map $\\sigma_i : C_i \\to \\mathcal{C}_i$"
   ]
  },
  {
   "cell_type": "code",
   "execution_count": 11,
   "metadata": {},
   "outputs": [],
   "source": [
    "C_repr = [ 0 ] * 12\n",
    "\n",
    "C_repr[0] = sp.Matrix([[ 1, 0, 0 ], [ 0, 1, 0 ], [ 0, 0, 1 ]])\n",
    "C_repr[1] = sp.Matrix([[ 1, 1, 0 ], [ 0, 1, 1 ], [ 0, 0, 1 ]])\n",
    "C_repr[2] = sp.Matrix([[ 1, 1, 0 ], [ 0, 1, 0 ], [ 0, 0, 1 ]])\n",
    "C_repr[3] = sp.Matrix([[ 1, 0, 0 ], [ 0, 1, 1 ], [ 0, 0, 1 ]])\n",
    "C_repr[4] = sp.Matrix([[ 1, 0, 1 ], [ 0, 1, 0 ], [ 0, 0, 1 ]])\n",
    "\n",
    "C_repr[5] = sp.Matrix([[ 1, 0, 0 ], [ 0, t, 0 ], [ 0, 0, 1 ]])\n",
    "C_repr[6] = sp.Matrix([[ 1, 0, 1 ], [ 0, t, 0 ], [ 0, 0, 1 ]])\n",
    "C_repr[7] = sp.Matrix([[ t, 0, 0 ], [ 0, 1, 0 ], [ 0, 0, 1 ]])\n",
    "C_repr[8] = sp.Matrix([[ t, 0, 0 ], [ 0, 1, 1 ], [ 0, 0, 1 ]])\n",
    "C_repr[9] = sp.Matrix([[ t, 0, 0 ], [ 0, t, 0 ], [ 0, 0, 1 ]])\n",
    "C_repr[10] = sp.Matrix([[ t, 1, 0 ], [ 0, t, 0 ], [ 0, 0, 1 ]])\n",
    "\n",
    "C_repr[11] = sp.Matrix([[ t, 0, 0 ], [ 0, s, 0 ], [ 0, 0, 1 ]])"
   ]
  },
  {
   "cell_type": "markdown",
   "metadata": {},
   "source": [
    "### Create Solver objects, and give them information on classes in $\\text{K}(\\text{Var}/C_i)$, in particular when $C_i$ is not a point"
   ]
  },
  {
   "cell_type": "code",
   "execution_count": 12,
   "metadata": {},
   "outputs": [],
   "source": [
    "s_KVar_k = Solver()\n",
    "s_KVar_t = Solver()\n",
    "s_KVar_ts = Solver()\n",
    "\n",
    "# Coordinates t and s are never 0 or 1\n",
    "s_KVar_t.dictionary.append(([ sp.Poly(t, t) ], 0))\n",
    "s_KVar_t.dictionary.append(([ sp.Poly(t - 1, t) ], 0))\n",
    "\n",
    "s_KVar_ts.dictionary.append(([ sp.Poly(t, t, s) ], 0))\n",
    "s_KVar_ts.dictionary.append(([ sp.Poly(t - 1, t, s) ], 0))\n",
    "s_KVar_ts.dictionary.append(([ sp.Poly(s, t, s) ], 0))\n",
    "s_KVar_ts.dictionary.append(([ sp.Poly(s - 1, t, s) ], 0))\n",
    "s_KVar_ts.dictionary.append(([ sp.Poly(s - t, t, s) ], 0))\n",
    "s_KVar_ts.dictionary.append(([ sp.Poly(t - s, t, s) ], 0))\n",
    "\n",
    "# S_t = [{ a**2 - t }], S_s = [{ a**2 - s }]\n",
    "S_t, S_s = sp.symbols('S_t S_s')\n",
    "\n",
    "s_KVar_t.dictionary.append(([ sp.Poly(x**2 - t, t, x) ], S_t))\n",
    "s_KVar_t.dictionary.append(([ sp.Poly(x**2*t - y**2, t, x, y) ], 1 + (q - 1) * S_t))\n",
    "s_KVar_t.dictionary.append(([ sp.Poly(x**2*t - 4*y**2, t, x, y) ], 1 + (q - 1) * S_t))\n",
    "s_KVar_t.dictionary.append(([ sp.Poly(x**2*y**2 - t, t, x, y) ], (q - 1) * S_t))\n",
    "s_KVar_t.dictionary.append(([ sp.Poly(4*x**2 - t, t, x) ], S_t))\n",
    "s_KVar_t.dictionary.append(([ sp.Poly(x**2*t - 1, t, x) ], S_t))\n",
    "s_KVar_t.dictionary.append(([ sp.Poly(x**2*t - 4, t, x) ], S_t))\n",
    "\n",
    "s_KVar_ts.dictionary.append(([ sp.Poly(x**2 - t, t, s, x) ], S_t))\n",
    "s_KVar_ts.dictionary.append(([ sp.Poly(x**2 - s, t, s, x) ], S_s))\n",
    "s_KVar_ts.dictionary.append(([ sp.Poly(x**2*y**2 - t, t, s, x, y) ], (q - 1) * S_t))\n",
    "s_KVar_ts.dictionary.append(([ sp.Poly(x**2*y**2 - s, t, s, x, y) ], (q - 1) * S_s))\n",
    "s_KVar_ts.dictionary.append(([ sp.Poly(x**2*y**2 - t, t, s, x, y, z), sp.Poly(x**2*z**2 - s, t, s, x, y, z), sp.Poly(s*y**2 - t*z**2, t, s, x, y, z)], (q - 1) * S_t * S_s))\n",
    "s_KVar_ts.dictionary.append(([ sp.Poly(x**2*y**2 - t, t, s, x, y, z), sp.Poly(x**2*z**2 - s, t, s, x, y, z), sp.Poly(t*z**2 - s*y**2, t, s, x, y, z)], (q - 1) * S_t * S_s))\n"
   ]
  },
  {
   "cell_type": "markdown",
   "metadata": {},
   "source": [
    "### Compute the class of the strata $\\mathcal{C}_i$, and that of a fiber $\\mathcal{C}_i \\to C_i$"
   ]
  },
  {
   "cell_type": "code",
   "execution_count": 18,
   "metadata": {
    "scrolled": false
   },
   "outputs": [
    {
     "name": "stdout",
     "output_type": "stream",
     "text": [
      "Class 0 is 1\n",
      "Fiber 0 is 1\n",
      "Class 1 is q*(q - 1)**2\n",
      "Fiber 1 is q*(q - 1)**2\n",
      "Class 2 is q*(q - 1)\n",
      "Fiber 2 is q*(q - 1)\n",
      "Class 3 is q*(q - 1)\n",
      "Fiber 3 is q*(q - 1)\n",
      "Class 4 is q - 1\n",
      "Fiber 4 is q - 1\n",
      "Class 5 is q**2*(q - 2)\n",
      "Fiber 5 is q**2\n",
      "Class 6 is q**2*(q - 2)*(q - 1)\n",
      "Fiber 6 is q**2*(q - 1)\n",
      "Class 7 is q**2*(q - 2)\n",
      "Fiber 7 is q**2\n",
      "Class 8 is q**2*(q - 2)*(q - 1)\n",
      "Fiber 8 is q**2*(q - 1)\n",
      "Class 9 is q**2*(q - 2)\n",
      "Fiber 9 is q**2\n",
      "Class 10 is q**2*(q - 2)*(q - 1)\n",
      "Fiber 10 is q**2*(q - 1)\n",
      "Class 11 is q**3*(q - 3)*(q - 2)\n",
      "Fiber 11 is q**3\n",
      "\n",
      "Class of U3 is q**3*(q - 1)**2\n"
     ]
    }
   ],
   "source": [
    "# Compute size of conjugacy classes\n",
    "total = 0\n",
    "C_class = [ 0 ] * 12\n",
    "F_class = [ 0 ] * 12\n",
    "\n",
    "# 0 - 4\n",
    "for i in range(0, 5):\n",
    "    eqs, op_eqs = C_eqs[i][0], C_eqs[i][1]\n",
    "    C_class[i] = sp.factor(s_KVar_k.compute_class(System(eqs, op_eqs, X_vars)))\n",
    "    F_class[i] = C_class[i]\n",
    "    print('Class {} is {}'.format(i, C_class[i]))\n",
    "    print('Fiber {} is {}'.format(i, F_class[i]))\n",
    "        \n",
    "# 5 - 10\n",
    "for i in range(5, 11):\n",
    "    eqs, op_eqs = C_eqs[i][0], C_eqs[i][1] + [ t, t - 1 ]\n",
    "    C_class[i] = sp.factor(s_KVar_k.compute_class(System(eqs, op_eqs, X_vars.union({ t }))))\n",
    "    F_class[i] = sp.factor(sp.simplify(C_class[i] / ( q - 2)))\n",
    "    print('Class {} is {}'.format(i, C_class[i]))\n",
    "    print('Fiber {} is {}'.format(i, F_class[i]))\n",
    "    \n",
    "# 11\n",
    "for i in range(11, 12):\n",
    "    eqs, op_eqs = C_eqs[i][0], C_eqs[i][1] + [ t, t - 1, s, s - 1, s - t ]\n",
    "    C_class[i] = sp.factor(s_KVar_k.compute_class(System(eqs, op_eqs, X_vars.union({ t, s }))))\n",
    "    F_class[i] = sp.factor(sp.simplify(C_class[i] / ( q - 2) / (q - 3)))\n",
    "    print('Class {} is {}'.format(i, C_class[i]))\n",
    "    print('Fiber {} is {}'.format(i, F_class[i]))\n",
    "\n",
    "print('\\nClass of U3 is {}'.format(sp.factor(sum(C_class))))"
   ]
  },
  {
   "cell_type": "markdown",
   "metadata": {},
   "source": [
    "### Methods for constructing systems of equations"
   ]
  },
  {
   "cell_type": "code",
   "execution_count": 16,
   "metadata": {},
   "outputs": [],
   "source": [
    "def replace_X_vars(eq, A):\n",
    "    for i in range(n):\n",
    "        for j in range(n):\n",
    "            if i > j or (i == n - 1 and j == n - 1):\n",
    "                continue\n",
    "\n",
    "            eq = eq.subs(X[i,j], A[i,j])\n",
    "    return eq\n",
    "\n",
    "def equations_over_class(A, k):\n",
    "    eqs    = [ replace_X_vars(eq, A) for eq in C_eqs[k][0] ]\n",
    "    op_eqs = [ replace_X_vars(eq, A) for eq in C_eqs[k][1] ]\n",
    "    return eqs, op_eqs"
   ]
  },
  {
   "cell_type": "markdown",
   "metadata": {},
   "source": [
    "### Compute entries of $Z_\\pi(N)$, w.r.t. the basis $V = \\langle T_1, T_2, T_3, T_4, T_5, S_6, S_7, S_8, S_9, S_{10}, S_{11}, D_{12} \\rangle$"
   ]
  },
  {
   "cell_type": "markdown",
   "metadata": {},
   "source": [
    "The strategy to compute `Z_pi_N[i,j]` is as follows:\n",
    "\n",
    "- For `[:,0:5]` use conjugacy invariance w.r.t. $B$.\n",
    "\n",
    "- For `[:,5:11]` use conjugacy invariance w.r.t. $A$.\n",
    "\n",
    "- For `[0:5,11]` and `[7:12,11]` use conjugacy invariance w.r.t. $B$.\n",
    "\n",
    "- For `[5:7, 11]` use conjugacy invariance w.r.t. $A$ (possibly you get unknowns, but they will cancel)."
   ]
  },
  {
   "cell_type": "code",
   "execution_count": 31,
   "metadata": {},
   "outputs": [],
   "source": [
    "Z_pi_N = sp.Matrix([ [ 0 ] * 12 for i in range(12) ] )"
   ]
  },
  {
   "cell_type": "code",
   "execution_count": 34,
   "metadata": {
    "collapsed": true
   },
   "outputs": [
    {
     "name": "stdout",
     "output_type": "stream",
     "text": [
      "Z_pi_N[0, 0] = 3*q**2 + 1\n",
      "Z_pi_N[1, 0] = q*(q - 1)**2\n",
      "Z_pi_N[2, 0] = q*(q - 1)*(q + 1)\n",
      "Z_pi_N[3, 0] = q*(q - 1)*(q + 1)\n",
      "Z_pi_N[4, 0] = (q - 1)*(q**2 + 1)\n",
      "Z_pi_N[5, 0] = S_t*q**2*(q + 1)\n",
      "Z_pi_N[6, 0] = S_t*q**2*(q - 1)\n",
      "Z_pi_N[7, 0] = S_t*q**2*(q + 1)\n",
      "Z_pi_N[8, 0] = S_t*q**2*(q - 1)\n",
      "Z_pi_N[9, 0] = S_t*q**2*(S_t + q - 1)\n",
      "Z_pi_N[10, 0] = S_t*q**2*(S_t - 1)*(q - 1)\n",
      "Z_pi_N[11, 0] = S_s*S_t*q**3\n",
      "Z_pi_N[0, 1] = q*(q - 1)**2\n",
      "Z_pi_N[1, 1] = q**2*(q - 1)**2*(2*q - 1)**2\n",
      "Z_pi_N[2, 1] = q**2*(q - 1)**2*(2*q - 1)\n",
      "Z_pi_N[3, 1] = q**2*(q - 1)**2*(2*q - 1)\n",
      "Z_pi_N[4, 1] = q*(q - 1)**3\n",
      "Z_pi_N[5, 1] = q**2*(q - 1)**2*(2*S_t*q - S_t + X_7)\n",
      "Z_pi_N[6, 1] = q**2*(q - 1)**2*(2*S_t*q**2 - 2*S_t*q + S_t - X_7)\n",
      "Z_pi_N[7, 1] = S_t*q**3*(q - 1)**2\n",
      "Z_pi_N[8, 1] = S_t*q**3*(q - 1)**2*(2*q - 1)\n",
      "Z_pi_N[9, 1] = S_t*q**3*(q - 1)**2\n",
      "Z_pi_N[10, 1] = S_t*q**3*(q - 1)**2*(S_t*q - 1)\n",
      "Z_pi_N[11, 1] = S_s*S_t*q**4*(q - 1)**2\n",
      "Z_pi_N[0, 2] = q*(q - 1)*(q + 1)\n",
      "Z_pi_N[1, 2] = q**2*(q - 1)**2*(2*q - 1)\n",
      "Z_pi_N[2, 2] = q**2*(q - 1)*(q + 1)*(2*q - 1)\n",
      "Z_pi_N[3, 2] = q**2*(q - 1)**2\n",
      "Z_pi_N[4, 2] = q*(q - 1)**2*(q + 1)\n",
      "Z_pi_N[5, 2] = 2*S_t*q**3*(q - 1)\n",
      "Z_pi_N[6, 2] = 2*S_t*q**3*(q - 1)**2\n",
      "Z_pi_N[7, 2] = S_t*q**3*(q - 1)*(q + 1)\n",
      "Z_pi_N[8, 2] = S_t*q**3*(q - 1)**2\n",
      "Z_pi_N[9, 2] = S_t*q**3*(q - 1)\n",
      "Z_pi_N[10, 2] = S_t*q**3*(q - 1)*(S_t*q - 1)\n",
      "Z_pi_N[11, 2] = S_s*S_t*q**4*(q - 1)\n",
      "Z_pi_N[0, 3] = q*(q - 1)*(q + 1)\n",
      "Z_pi_N[1, 3] = q**2*(q - 1)**2*(2*q - 1)\n",
      "Z_pi_N[2, 3] = q**2*(q - 1)**2\n",
      "Z_pi_N[3, 3] = q**2*(q - 1)*(q + 1)*(2*q - 1)\n",
      "Z_pi_N[4, 3] = q*(q - 1)**2*(q + 1)\n",
      "Z_pi_N[5, 3] = 2*S_t*q**3*(q - 1)\n",
      "Z_pi_N[6, 3] = 2*S_t*q**3*(q - 1)**2\n",
      "Z_pi_N[7, 3] = S_t*q**3*(q - 1)\n",
      "Z_pi_N[8, 3] = S_t*q**3*(q - 1)*(2*q - 1)\n",
      "Z_pi_N[9, 3] = S_t*q**3*(q - 1)*(S_t + q - 1)\n",
      "Z_pi_N[10, 3] = S_t*q**3*(S_t - 1)*(q - 1)**2\n",
      "Z_pi_N[11, 3] = S_s*S_t*q**4*(q - 1)\n",
      "Z_pi_N[0, 4] = (q - 1)*(q**2 + 1)\n",
      "Z_pi_N[1, 4] = q*(q - 1)**3\n",
      "Z_pi_N[2, 4] = q*(q - 1)**2*(q + 1)\n",
      "Z_pi_N[3, 4] = q*(q - 1)**2*(q + 1)\n",
      "Z_pi_N[4, 4] = (q - 1)*(q**3 + q**2 + q - 1)\n",
      "Z_pi_N[5, 4] = S_t*q**2*(q - 1)\n",
      "Z_pi_N[6, 4] = S_t*q**2*(q - 1)*(2*q - 1)\n",
      "Z_pi_N[7, 4] = S_t*q**2*(q - 1)*(q + 1)\n",
      "Z_pi_N[8, 4] = S_t*q**2*(q - 1)**2\n",
      "Z_pi_N[9, 4] = S_t*q**2*(q - 1)*(S_t + q - 1)\n",
      "Z_pi_N[10, 4] = S_t*q**2*(S_t - 1)*(q - 1)**2\n",
      "Z_pi_N[11, 4] = S_s*S_t*q**3*(q - 1)\n"
     ]
    }
   ],
   "source": [
    "# Compute Z_pi(N)(T_j) for j = 0, 1, 2, 3, 4 using invariance w.r.t. B\n",
    "\n",
    "for j in range(0, 5):\n",
    "    B_repr = C_repr[j]\n",
    "    B_eqs, B_op_eqs = equations_over_class(B_repr, j)\n",
    "    \n",
    "    # 0 - 4\n",
    "    for i in range(0, 5):\n",
    "        eqs, op_eqs = equations_over_class(B_repr * A**2, i)\n",
    "        Z_pi_N[i, j] = sp.factor(s_KVar_k.compute_class(System(eqs + B_eqs, op_eqs + B_op_eqs, A_vars)))\n",
    "        Z_pi_N[i, j] *= F_class[j]\n",
    "        print('Z_pi_N[{}, {}] = {}'.format(i, j, Z_pi_N[i, j]))\n",
    "        \n",
    "    # 5 - 10\n",
    "    for i in range(5, 11):\n",
    "        eqs, op_eqs = equations_over_class(B_repr * A**2, i)\n",
    "        Z_pi_N[i, j] = sp.factor(s_KVar_t.compute_class(System(eqs + B_eqs, op_eqs + B_op_eqs, A_vars.union({ t }), { t })))\n",
    "        Z_pi_N[i, j] *= F_class[j]\n",
    "        print('Z_pi_N[{}, {}] = {}'.format(i, j, Z_pi_N[i, j]))\n",
    "        \n",
    "    # 11\n",
    "    for i in range(11, 12):\n",
    "        eqs, op_eqs = equations_over_class(B_repr * A**2, i)\n",
    "        Z_pi_N[i, j] = sp.factor(s_KVar_ts.compute_class(System(eqs + B_eqs, op_eqs + B_op_eqs, A_vars.union({ t, s }), { t, s })))\n",
    "        Z_pi_N[i, j] *= F_class[j]\n",
    "        print('Z_pi_N[{}, {}] = {}'.format(i, j, Z_pi_N[i, j]))"
   ]
  },
  {
   "cell_type": "markdown",
   "metadata": {},
   "source": [
    "### Computing entries using the conjugacy invariance w.r.t. $A$"
   ]
  },
  {
   "cell_type": "code",
   "execution_count": 110,
   "metadata": {
    "scrolled": false
   },
   "outputs": [
    {
     "name": "stdout",
     "output_type": "stream",
     "text": [
      "Partly Z_pi_N[0,6] += 0\n",
      "Partly Z_pi_N[1,6] += 0\n",
      "Partly Z_pi_N[2,6] += 0\n",
      "Partly Z_pi_N[3,6] += 0\n",
      "Partly Z_pi_N[4,6] += 0\n",
      "Partly Z_pi_N[5,6] += 0\n",
      "Partly Z_pi_N[6,6] += S_t*q**2*(q - 1)\n",
      "Partly Z_pi_N[7,6] += 0\n",
      "Partly Z_pi_N[8,6] += 0\n",
      "Partly Z_pi_N[9,6] += 0\n",
      "Partly Z_pi_N[10,6] += 0\n",
      "Partly Z_pi_N[11,6] += 0\n",
      "Partly Z_pi_N[0,6] += 0\n",
      "Partly Z_pi_N[1,6] += 0\n",
      "Partly Z_pi_N[2,6] += 0\n",
      "Partly Z_pi_N[3,6] += 0\n",
      "Partly Z_pi_N[4,6] += 0\n",
      "Partly Z_pi_N[5,6] += S_t*q**2*(q - 1)**3\n",
      "Partly Z_pi_N[6,6] += S_t*q**2*(q - 1)**4\n",
      "Partly Z_pi_N[7,6] += 0\n",
      "Partly Z_pi_N[8,6] += 0\n",
      "Partly Z_pi_N[9,6] += 0\n",
      "Partly Z_pi_N[10,6] += 0\n",
      "Partly Z_pi_N[11,6] += 0\n",
      "Partly Z_pi_N[0,6] += 0\n",
      "Partly Z_pi_N[1,6] += 0\n",
      "Partly Z_pi_N[2,6] += 0\n",
      "Partly Z_pi_N[3,6] += 0\n",
      "Partly Z_pi_N[4,6] += 0\n",
      "Partly Z_pi_N[5,6] += S_t*q**2*(q - 1)**2\n",
      "Partly Z_pi_N[6,6] += S_t*q**2*(q - 1)**3\n",
      "Partly Z_pi_N[7,6] += 0\n",
      "Partly Z_pi_N[8,6] += 0\n",
      "Partly Z_pi_N[9,6] += 0\n",
      "Partly Z_pi_N[10,6] += 0\n",
      "Partly Z_pi_N[11,6] += 0\n",
      "Partly Z_pi_N[0,6] += 0\n",
      "Partly Z_pi_N[1,6] += 0\n",
      "Partly Z_pi_N[2,6] += 0\n",
      "Partly Z_pi_N[3,6] += 0\n",
      "Partly Z_pi_N[4,6] += 0\n",
      "Partly Z_pi_N[5,6] += S_t*q**2*(q - 1)**2\n",
      "Partly Z_pi_N[6,6] += S_t*q**2*(q - 1)**3\n",
      "Partly Z_pi_N[7,6] += 0\n",
      "Partly Z_pi_N[8,6] += 0\n",
      "Partly Z_pi_N[9,6] += 0\n",
      "Partly Z_pi_N[10,6] += 0\n",
      "Partly Z_pi_N[11,6] += 0\n",
      "Partly Z_pi_N[0,6] += 0\n",
      "Partly Z_pi_N[1,6] += 0\n",
      "Partly Z_pi_N[2,6] += 0\n",
      "Partly Z_pi_N[3,6] += 0\n",
      "Partly Z_pi_N[4,6] += 0\n",
      "Partly Z_pi_N[5,6] += S_t*q**2*(q - 1)\n",
      "Partly Z_pi_N[6,6] += S_t*q**2*(q - 2)*(q - 1)\n",
      "Partly Z_pi_N[7,6] += 0\n",
      "Partly Z_pi_N[8,6] += 0\n",
      "Partly Z_pi_N[9,6] += 0\n",
      "Partly Z_pi_N[10,6] += 0\n",
      "Partly Z_pi_N[11,6] += 0\n",
      "Partly Z_pi_N[0,6] += 0\n",
      "Partly Z_pi_N[1,6] += 2*q**2*(q - 3)*(q - 1)**3\n",
      "Partly Z_pi_N[2,6] += 2*q**2*(q - 3)*(q - 1)**2\n",
      "Partly Z_pi_N[3,6] += 2*q**2*(q - 3)*(q - 1)**2\n",
      "Partly Z_pi_N[4,6] += 2*q**2*(q - 3)*(q - 1)\n",
      "Partly Z_pi_N[5,6] += S_t*q**2*(q - 5)*(q - 1)**2\n",
      "Partly Z_pi_N[6,6] += S_t*q**2*(q - 1)*(q**3 - 5*q**2 + 6*q - 5)\n",
      "Partly Z_pi_N[7,6] += 0\n",
      "Partly Z_pi_N[8,6] += 0\n",
      "Partly Z_pi_N[9,6] += 0\n",
      "Partly Z_pi_N[10,6] += 0\n",
      "Partly Z_pi_N[11,6] += 0\n",
      "Partly Z_pi_N[0,6] += 2*q**2*(q - 3)*(q - 1)\n",
      "Partly Z_pi_N[1,6] += 2*q**2*(q - 3)*(q - 1)**4\n",
      "Partly Z_pi_N[2,6] += 2*q**2*(q - 3)*(q - 1)**3\n",
      "Partly Z_pi_N[3,6] += 2*q**2*(q - 3)*(q - 1)**3\n",
      "Partly Z_pi_N[4,6] += 2*q**2*(q - 3)*(q - 2)*(q - 1)\n",
      "Partly Z_pi_N[5,6] += S_t*q**2*(q - 1)*(q**3 - 5*q**2 + 6*q - 5)\n",
      "Partly Z_pi_N[6,6] += S_t*q**2*(q - 1)*(q**4 - 6*q**3 + 9*q**2 - 6*q + 5)\n",
      "Partly Z_pi_N[7,6] += 0\n",
      "Partly Z_pi_N[8,6] += 0\n",
      "Partly Z_pi_N[9,6] += 0\n",
      "Partly Z_pi_N[10,6] += 0\n",
      "Partly Z_pi_N[11,6] += 0\n",
      "Partly Z_pi_N[0,6] += 0\n",
      "Partly Z_pi_N[1,6] += 0\n",
      "Partly Z_pi_N[2,6] += 0\n",
      "Partly Z_pi_N[3,6] += 0\n",
      "Partly Z_pi_N[4,6] += 0\n",
      "Partly Z_pi_N[5,6] += 0\n",
      "Partly Z_pi_N[6,6] += S_t*q**4*(q - 1)\n",
      "Partly Z_pi_N[7,6] += 0\n",
      "Partly Z_pi_N[8,6] += 0\n",
      "Partly Z_pi_N[9,6] += S_t**2*q**3*(q - 1)\n",
      "Partly Z_pi_N[10,6] += S_t**2*q**3*(q - 1)**2\n",
      "Partly Z_pi_N[11,6] += S_s*S_t*q**4*(q - 1)\n",
      "Partly Z_pi_N[0,6] += 0\n",
      "Partly Z_pi_N[1,6] += 0\n",
      "Partly Z_pi_N[2,6] += 0\n",
      "Partly Z_pi_N[3,6] += 0\n",
      "Partly Z_pi_N[4,6] += 0\n",
      "Partly Z_pi_N[5,6] += S_t*q**3*(q - 1)**2\n",
      "Partly Z_pi_N[6,6] += S_t*q**3*(q - 1)**3\n",
      "Partly Z_pi_N[7,6] += 0\n",
      "Partly Z_pi_N[8,6] += 0\n",
      "Partly Z_pi_N[9,6] += S_t**2*q**3*(q - 1)**2\n",
      "Partly Z_pi_N[10,6] += S_t**2*q**3*(q - 1)**3\n",
      "Partly Z_pi_N[11,6] += S_s*S_t*q**4*(q - 1)**2\n",
      "Partly Z_pi_N[0,6] += 0\n",
      "Partly Z_pi_N[1,6] += 0\n",
      "Partly Z_pi_N[2,6] += 0\n",
      "Partly Z_pi_N[3,6] += 0\n",
      "Partly Z_pi_N[4,6] += 0\n",
      "Partly Z_pi_N[5,6] += 0\n",
      "Partly Z_pi_N[6,6] += S_t*q**4*(q - 1)\n",
      "Partly Z_pi_N[7,6] += S_t**2*q**3*(q - 1)\n",
      "Partly Z_pi_N[8,6] += S_t**2*q**3*(q - 1)**2\n",
      "Partly Z_pi_N[9,6] += 0\n",
      "Partly Z_pi_N[10,6] += 0\n",
      "Partly Z_pi_N[11,6] += S_t*X_0*q**4*(q - 1)\n",
      "Partly Z_pi_N[0,6] += 0\n",
      "Partly Z_pi_N[1,6] += 0\n",
      "Partly Z_pi_N[2,6] += 0\n",
      "Partly Z_pi_N[3,6] += 0\n",
      "Partly Z_pi_N[4,6] += 0\n",
      "Partly Z_pi_N[5,6] += S_t*q**3*(q - 1)**2\n",
      "Partly Z_pi_N[6,6] += S_t*q**3*(q - 1)**3\n",
      "Partly Z_pi_N[7,6] += S_t**2*q**3*(q - 1)**2\n",
      "Partly Z_pi_N[8,6] += S_t**2*q**3*(q - 1)**3\n",
      "Partly Z_pi_N[9,6] += 0\n",
      "Partly Z_pi_N[10,6] += 0\n",
      "Partly Z_pi_N[11,6] += S_t*X_0*q**4*(q - 1)**2\n",
      "Partly Z_pi_N[0,6] += 0\n",
      "Partly Z_pi_N[1,6] += 2*q**3*(q - 3)*(q - 1)**3\n",
      "Partly Z_pi_N[2,6] += 2*q**3*(q - 3)*(q - 1)**2\n",
      "Partly Z_pi_N[3,6] += 2*q**3*(q - 3)*(q - 1)**2\n",
      "Partly Z_pi_N[4,6] += 2*q**3*(q - 3)*(q - 1)\n",
      "Partly Z_pi_N[5,6] += S_t*q**3*(q - 5)*(q - 1)**2\n",
      "Partly Z_pi_N[6,6] += S_t*q**3*(q - 5)*(q - 1)*(q**2 - q + 1)\n",
      "Partly Z_pi_N[7,6] += 2*S_t*q**4*(q - 4)*(q - 1)\n",
      "Partly Z_pi_N[8,6] += 2*S_t*q**4*(q - 4)*(q - 1)**2\n",
      "Partly Z_pi_N[9,6] += S_t**2*q**4*(q - 4)*(q - 1)\n",
      "Partly Z_pi_N[10,6] += S_t**2*q**4*(q - 4)*(q - 1)**2\n",
      "Partly Z_pi_N[11,6] += S_t*q**5*(q - 1)*(S_s*q - 4*S_s - X_0)\n",
      "\n",
      "Z_pi_N[0,6] = 2*q**2*(q - 3)*(q - 1)\n",
      "Z_pi_N[1,6] = 4*q**3*(q - 3)*(q - 1)**3\n",
      "Z_pi_N[2,6] = 4*q**3*(q - 3)*(q - 1)**2\n",
      "Z_pi_N[3,6] = 4*q**3*(q - 3)*(q - 1)**2\n",
      "Z_pi_N[4,6] = 2*q**2*(q - 3)*(q - 1)*(2*q - 1)\n",
      "Z_pi_N[5,6] = S_t*q**3*(q - 3)*(q - 1)*(2*q - 1)\n",
      "Z_pi_N[6,6] = S_t*q**3*(q - 3)*(q - 1)*(2*q**2 - 2*q + 1)\n",
      "Z_pi_N[7,6] = S_t*q**4*(q - 1)*(S_t + 2*q - 8)\n",
      "Z_pi_N[8,6] = S_t*q**4*(q - 1)**2*(S_t + 2*q - 8)\n",
      "Z_pi_N[9,6] = S_t**2*q**4*(q - 3)*(q - 1)\n",
      "Z_pi_N[10,6] = S_t**2*q**4*(q - 3)*(q - 1)**2\n",
      "Z_pi_N[11,6] = S_s*S_t*q**5*(q - 3)*(q - 1)\n",
      "\n"
     ]
    }
   ],
   "source": [
    "i_range = range(0, 12)\n",
    "j_range = range(5, 11)\n",
    "\n",
    "# METHOD USING CONJUGACY INVARIANCE W.R.T. A\n",
    "for j in j_range:\n",
    "    \n",
    "    if j < 5:    \n",
    "        B_eqs, B_op_eqs = equations_over_class(B, j)\n",
    "        extra_B_vars = set()\n",
    "    elif j < 11:\n",
    "        B_eqs, B_op_eqs = equations_over_class(B, j)\n",
    "        B_eqs, B_op_eqs = [ eq.subs(t, x**2) for eq in B_eqs ], [ eq.subs(t, x**2) for eq in B_op_eqs ]\n",
    "        extra_B_vars = { x }\n",
    "    else:\n",
    "        B_eqs, B_op_eqs = equations_over_class(B, j)\n",
    "        B_eqs, B_op_eqs = [ eq.subs(t, x**2).subs(s, y**2) for eq in B_eqs ], [ eq.subs(t, x**2).subs(s, y**2) for eq in B_op_eqs ]\n",
    "        extra_B_vars = { x, y }\n",
    "    \n",
    "    for i in i_range:\n",
    "        Z_pi_N[i, j] = 0\n",
    "    \n",
    "    for k in range(0, 12):\n",
    "\n",
    "        if k < 5:\n",
    "            A_repr = C_repr[k]\n",
    "            A_eqs, A_op_eqs, extra_A_vars = [], [], set()\n",
    "        elif k < 11:\n",
    "            A_repr = C_repr[k].subs(t, a)\n",
    "            A_eqs, A_op_eqs, extra_A_vars = [], [ a, a - 1 ], { a }\n",
    "        else:\n",
    "            A_repr = C_repr[k].subs(t, a).subs(s, b)\n",
    "            A_eqs, A_op_eqs, extra_A_vars = [], [ a, a - 1, b, b - 1, b - a ], { a, b }\n",
    "        \n",
    "        for i in i_range:\n",
    "            eqs, op_eqs = equations_over_class(B * A_repr**2, i)\n",
    "            eqs, op_eqs = eqs + A_eqs + B_eqs, op_eqs + A_op_eqs + B_op_eqs\n",
    "                        \n",
    "            if i < 5:\n",
    "                S_vars = set()\n",
    "                Z_vars = B_vars.union(extra_B_vars, extra_A_vars, S_vars)\n",
    "                c = s_KVar_k.compute_class(System(eqs, op_eqs, Z_vars, S_vars))\n",
    "            elif i < 11:\n",
    "                S_vars = { t }\n",
    "                Z_vars = B_vars.union(extra_B_vars, extra_A_vars, S_vars)                \n",
    "                c = s_KVar_t.compute_class(System(eqs, op_eqs, Z_vars, S_vars))\n",
    "            else:\n",
    "                S_vars = { t, s }\n",
    "                Z_vars = B_vars.union(extra_B_vars, extra_A_vars, S_vars)\n",
    "                c = s_KVar_ts.compute_class(System(eqs, op_eqs, Z_vars, S_vars))\n",
    "            \n",
    "            c *= F_class[k]\n",
    "            \n",
    "            print('Partly Z_pi_N[{},{}] += {}'.format(i, j, sp.factor(c)))\n",
    "            Z_pi_N[i, j] += c\n",
    "    \n",
    "    print('')\n",
    "    \n",
    "    for i in i_range:\n",
    "        Z_pi_N[i, j] = sp.factor(Z_pi_N[i, j])\n",
    "        print('Z_pi_N[{},{}] = {}'.format(i, j, Z_pi_N[i, j]))\n",
    "        \n",
    "    print('')"
   ]
  },
  {
   "cell_type": "code",
   "execution_count": 114,
   "metadata": {},
   "outputs": [
    {
     "name": "stdout",
     "output_type": "stream",
     "text": [
      "Z_pi_N[0, 11] = 4*q**3*(q - 5)*(q - 3)\n",
      "Z_pi_N[1, 11] = 4*q**4*(q - 5)*(q - 3)*(q - 1)**2\n",
      "Z_pi_N[2, 11] = 4*q**4*(q - 5)*(q - 3)*(q - 1)\n",
      "Z_pi_N[3, 11] = 4*q**4*(q - 5)*(q - 3)*(q - 1)\n",
      "Z_pi_N[4, 11] = 4*q**3*(q - 5)*(q - 3)*(q - 1)\n",
      "Z_pi_N[7, 11] = 2*S_t*q**5*(q - 5)*(q - 3)\n",
      "Z_pi_N[8, 11] = 2*S_t*q**5*(q - 5)*(q - 3)*(q - 1)\n",
      "Z_pi_N[9, 11] = S_t*q**5*(S_t*q**2 - 6*S_t*q + 13*S_t - 4*q + 4)\n",
      "Z_pi_N[10, 11] = S_t*q**5*(S_t*q**3 - 7*S_t*q**2 + 15*S_t*q - 13*S_t - 4*q**2 + 16*q - 4)\n",
      "Z_pi_N[11, 11] = S_s*S_t*q**6*(q - 5)*(q - 3)\n"
     ]
    }
   ],
   "source": [
    "# And finally, compute Z_pi_N(D_11) using invariance w.r.t. B (except for the cases i = 5, 6)\n",
    "for j in range(11, 12):\n",
    "    B_repr = C_repr[j].subs(t, x**2).subs(s, y**2)\n",
    "    B_eqs, B_op_eqs = [], [ x, x - 1, x + 1, y, y - 1, y + 1, y - x, y + x ]\n",
    "\n",
    "    # 0 - 4\n",
    "    for i in range(0, 5):\n",
    "        eqs, op_eqs = equations_over_class(B_repr * A**2, i)\n",
    "        Z_pi_N[i, j] = sp.factor(s_KVar_k.compute_class(System(eqs + B_eqs, op_eqs + B_op_eqs, A_vars.union({ x, y }))))\n",
    "        Z_pi_N[i, j] *= F_class[j]\n",
    "        print('Z_pi_N[{}, {}] = {}'.format(i, j, Z_pi_N[i, j]))\n",
    "\n",
    "    # 5 - 10\n",
    "    \n",
    "    # Note: i = 5, 6 are HARD CASES (for some reason), use invariance w.r.t. A instead to obtain\n",
    "    Z_pi_N[5,11] = 2*q**5*(q - 5)*(q - 3) * S_t\n",
    "    Z_pi_N[6,11] = 2*q**5*(q - 5)*(q - 3)*(q - 1) * S_t\n",
    "    \n",
    "    for i in range(7, 11):\n",
    "        eqs, op_eqs = equations_over_class(B_repr * A**2, i)    \n",
    "        Z_pi_N[i, j] = sp.factor(s_KVar_t.compute_class(System(eqs + B_eqs, op_eqs + B_op_eqs, A_vars.union({ x, y, t }), { t })))\n",
    "        Z_pi_N[i, j] *= F_class[j]\n",
    "        print('Z_pi_N[{}, {}] = {}'.format(i, j, Z_pi_N[i, j]))\n",
    "\n",
    "    # 11\n",
    "    for i in range(11, 12):\n",
    "        eqs, op_eqs = equations_over_class(B_repr * A**2, i)\n",
    "        Z_pi_N[i, j] = sp.factor(s_KVar_ts.compute_class(System(eqs + B_eqs, op_eqs + B_op_eqs, A_vars.union({ x, y, t, s }), { t, s })))\n",
    "        Z_pi_N[i, j] *= F_class[j]\n",
    "        print('Z_pi_N[{}, {}] = {}'.format(i, j, Z_pi_N[i, j]))"
   ]
  },
  {
   "cell_type": "markdown",
   "metadata": {},
   "source": [
    "### If there are any newly introduced symbols, resolve them by hand (unfortunately the algorithm is not perfect)"
   ]
  },
  {
   "cell_type": "code",
   "execution_count": 140,
   "metadata": {
    "scrolled": true
   },
   "outputs": [
    {
     "name": "stdout",
     "output_type": "stream",
     "text": [
      "([Poly(a_{0,1}**2 - 1/4*t, a_{0,1}, t, domain='QQ')], X_9)\n"
     ]
    }
   ],
   "source": [
    "for entry in s_KVar_t.dictionary:\n",
    "    if entry[1] == sp.Symbol('X_9'):\n",
    "        print(entry)"
   ]
  },
  {
   "cell_type": "code",
   "execution_count": 116,
   "metadata": {},
   "outputs": [
    {
     "name": "stdout",
     "output_type": "stream",
     "text": [
      "([Poly(-s + t*x**2, s, t, x, domain='ZZ')], X_0)\n"
     ]
    }
   ],
   "source": [
    "for entry in s_KVar_ts.dictionary:\n",
    "    if entry[1] == sp.Symbol('X_0'):\n",
    "        print(entry)"
   ]
  },
  {
   "cell_type": "markdown",
   "metadata": {},
   "source": [
    "### Simplify the entries of $Z_\\pi(N)$ by the relations $S_i^2 = 2S_i$ and factorization"
   ]
  },
  {
   "cell_type": "code",
   "execution_count": 136,
   "metadata": {},
   "outputs": [],
   "source": [
    "for i in range(12):\n",
    "    for j in range(12):\n",
    "        Z_pi_N[i, j] = sp.reduced(Z_pi_N[i, j], [ S_t**2 - 2*S_t ])[1]\n",
    "        Z_pi_N[i, j] = sp.factor(Z_pi_N[i, j])"
   ]
  },
  {
   "cell_type": "markdown",
   "metadata": {},
   "source": [
    "### Check that the columns add up to what they should add up to"
   ]
  },
  {
   "cell_type": "code",
   "execution_count": 138,
   "metadata": {
    "scrolled": true
   },
   "outputs": [
    {
     "name": "stdout",
     "output_type": "stream",
     "text": [
      "i = 0, valid = True\n",
      "i = 1, valid = True\n",
      "i = 2, valid = True\n",
      "i = 3, valid = True\n",
      "i = 4, valid = True\n",
      "i = 5, valid = True\n",
      "i = 6, valid = True\n",
      "i = 7, valid = True\n",
      "i = 8, valid = True\n",
      "i = 9, valid = True\n",
      "i = 10, valid = True\n",
      "i = 11, valid = True\n"
     ]
    }
   ],
   "source": [
    "# 0 - 4\n",
    "for i in range(0, 5):\n",
    "    summation = sp.factor( sum(Z_pi_N[0:5,i]) + sum(Z_pi_N[5:11,i].subs(S_t, q - 3)) + Z_pi_N[11,i].subs(S_t, q - 3).subs(S_s, q - 5) )    \n",
    "    valid = sp.expand(summation - C_class[i] * q**3 * (q - 1)**2) == 0\n",
    "    print('i = {}, valid = {}'.format(i, valid))\n",
    "    \n",
    "# 5 - 10\n",
    "for i in range(5, 11):\n",
    "    summation = sp.factor( sum(Z_pi_N[0:5,i]) + sum(Z_pi_N[5:11,i].subs(S_t, q - 3)) + Z_pi_N[11,i].subs(S_t, q - 3).subs(S_s, q - 5) )    \n",
    "    valid = sp.expand(summation - C_class[i] / (q - 2) * (q - 3)  *  q**3 * (q - 1)**2) == 0\n",
    "    print('i = {}, valid = {}'.format(i, valid))\n",
    "    \n",
    "# 11\n",
    "for i in range(11, 12):\n",
    "    summation = sp.factor( sum(Z_pi_N[0:5,i]) + sum(Z_pi_N[5:11,i].subs(S_t, q - 3)) + Z_pi_N[11,i].subs(S_t, q - 3).subs(S_s, q - 5) )    \n",
    "    valid = sp.expand(summation - q**6 * (q - 5) * (q - 3) * (q - 1)**2) == 0\n",
    "    print('i = {}, valid = {}'.format(i, valid))"
   ]
  },
  {
   "cell_type": "markdown",
   "metadata": {},
   "source": [
    "### The map $\\eta$: since all maps $\\pi_i : \\mathcal{C}_i \\to C_i$ are trivial fibrations, this is just multiplication by the class of the fibers $F_i$."
   ]
  },
  {
   "cell_type": "code",
   "execution_count": 121,
   "metadata": {},
   "outputs": [],
   "source": [
    "eta = sp.Matrix([ [ 0 ] * 12 for i in range(12) ] )\n",
    "eta_inv = sp.Matrix([ [ 0 ] * 12 for i in range(12) ] )\n",
    "\n",
    "for i in range(0, 12):\n",
    "    eta[i, i] = F_class[i]\n",
    "    eta_inv[i, i] = 1 / eta[i, i]"
   ]
  },
  {
   "cell_type": "markdown",
   "metadata": {},
   "source": [
    "### Use diagonalization of $\\tilde{Z}(N)$ to produce formula, and a few values of $[ \\mathfrak{X}_{\\tilde{\\mathbb{U}}_3}(N_r) ]$"
   ]
  },
  {
   "cell_type": "code",
   "execution_count": 117,
   "metadata": {},
   "outputs": [],
   "source": [
    "Z_tilde_N = sp.Matrix([[3*q**2 + 1, 1, q + 1, q + 1, q**2 + 1, 2*(q - 3)*(q + 1), 2*q - 6, 2*(q - 3)*(q + 1), 2*q - 6, 2*(q - 3)*(q + 1), 2*q - 6, 4*(q - 5)*(q - 3)], [ q*(q - 1)**2, q*(2*q - 1)**2, q*(q - 1)*(2*q - 1), q*(q - 1)*(2*q - 1), q*(q - 1)**2, 4*q*(q - 3)*(q - 1)**2, 4*q*(q - 3)*(q - 1)**2, 2*q*(q - 3)*(q - 1)**2, 2*q*(q - 3)*(q - 1)*(2*q - 1), 2*q*(q - 3)*(q - 1)**2, 2*q*(q - 3)*(q - 1)*(2*q - 1), 4*q*(q - 5)*(q - 3)*(q - 1)**2], [ q*(q - 1)*(q + 1), q*(2*q - 1), q*(q + 1)*(2*q - 1), q*(q - 1), q*(q - 1)*(q + 1), 4*q*(q - 3)*(q - 1), 4*q*(q - 3)*(q - 1), 2*q*(q - 3)*(q - 1)*(q + 1), 2*q*(q - 3)*(q - 1), 2*q*(q - 3)*(q - 1), 2*q*(q - 3)*(2*q - 1), 4*q*(q - 5)*(q - 3)*(q - 1)], [ q*(q - 1)*(q + 1), q*(2*q - 1), q*(q - 1), q*(q + 1)*(2*q - 1), q*(q - 1)*(q + 1), 4*q*(q - 3)*(q - 1), 4*q*(q - 3)*(q - 1), 2*q*(q - 3)*(q - 1), 2*q*(q - 3)*(2*q - 1), 2*q*(q - 3)*(q - 1)*(q + 1), 2*q*(q - 3)*(q - 1), 4*q*(q - 5)*(q - 3)*(q - 1)], [ (q - 1)*(q**2 + 1), q - 1, (q - 1)*(q + 1), (q - 1)*(q + 1), q**3 + q**2 + q - 1, 2*(q - 3)*(q - 1), 2*(q - 3)*(2*q - 1), 2*(q - 3)*(q - 1)*(q + 1), 2*(q - 3)*(q - 1), 2*(q - 3)*(q - 1)*(q + 1), 2*(q - 3)*(q - 1), 4*(q - 5)*(q - 3)*(q - 1)], [ q**2*(q + 1), 2*q**2, 2*q**2, 2*q**2, q**2, q*(q - 3)*(3*q - 1), q*(q - 3)*(2*q - 1), 2*q**2*(q - 3), 2*q**2*(q - 3), 2*q**2*(q - 3), 2*q**2*(q - 3), 2*q**2*(q - 5)*(q - 3)], [ q**2*(q - 1), 2*q**2*(q - 1), 2*q**2*(q - 1), 2*q**2*(q - 1), q**2*(2*q - 1), q*(q - 3)*(q - 1)*(2*q - 1), q*(q - 3)*(2*q**2 - 2*q + 1), 2*q**2*(q - 3)*(q - 1), 2*q**2*(q - 3)*(q - 1), 2*q**2*(q - 3)*(q - 1), 2*q**2*(q - 3)*(q - 1), 2*q**2*(q - 5)*(q - 3)*(q - 1)], [ q**2*(q + 1), q**2, q**2*(q + 1), q**2, q**2*(q + 1), 2*q**2*(q - 3), 2*q**2*(q - 3), q**2*(q - 3)*(q + 1), q**2*(q - 3), 2*q**2*(q - 3), 2*q**2*(q - 3), 2*q**2*(q - 5)*(q - 3)], [ q**2*(q - 1), q**2*(2*q - 1), q**2*(q - 1), q**2*(2*q - 1), q**2*(q - 1), 2*q**2*(q - 3)*(q - 1), 2*q**2*(q - 3)*(q - 1), q**2*(q - 3)*(q - 1), q**2*(q - 3)*(2*q - 1), 2*q**2*(q - 3)*(q - 1), 2*q**2*(q - 3)*(q - 1), 2*q**2*(q - 5)*(q - 3)*(q - 1)], [ q**2*(q + 1), q**2, q**2, q**2*(q + 1), q**2*(q + 1), 2*q**2*(q - 3), 2*q**2*(q - 3), 2*q**2*(q - 3), 2*q**2*(q - 3), q**2*(q - 3)*(q + 1), q**2*(q - 3), 2*q**2*(q - 5)*(q - 3)], [ q**2*(q - 1), q**2*(2*q - 1), q**2*(2*q - 1), q**2*(q - 1), q**2*(q - 1), 2*q**2*(q - 3)*(q - 1), 2*q**2*(q - 3)*(q - 1), 2*q**2*(q - 3)*(q - 1), 2*q**2*(q - 3)*(q - 1), q**2*(q - 3)*(q - 1), q**2*(q - 3)*(2*q - 1), 2*q**2*(q - 5)*(q - 3)*(q - 1)], [ q**3, q**3, q**3, q**3, q**3, q**3*(q - 3), q**3*(q - 3), q**3*(q - 3), q**3*(q - 3), q**3*(q - 3), q**3*(q - 3), q**3*(q - 5)*(q - 3)]])\n",
    "\n",
    "P = sp.Matrix([[ -(q**3 - 4*q**2 + 4*q - 3)/q**3, (q**2 - 4*q + 3)/q**3, -(q - 3)/q**2, 0, -(q - 3)/q**2, 0, -(q**2 - 8*q + 15)/q**3, -2/q, -2/q**2, -2/q**2, 1/(q - 1), 4/q**3], [ -(q**3 - 5*q**2 + 7*q - 3)/q**2, -(q**3 - 5*q**2 + 7*q - 3)/q**2, 0, -(q**2 - 4*q + 3)/q, 0, -((q - 1)*(q - 3))/q, -(q**4 - 10*q**3 + 32*q**2 - 38*q + 15)/q**2, 0, (2*(q - 1))/q, (2*(q - 1))/q, q/(q - 1), (4*(q**2 - 2*q + 1))/q**2], [ -(q**2 - 4*q + 3)/q**2, -(q**2 - 4*q + 3)/q**2, -((q - 1)*(q - 3))/q, 0, 0, -(q - 3)/q, -(q**3 - 9*q**2 + 23*q - 15)/q**2, 0, -(2*(q - 1))/q, 2/q, -q/(q - 1), (4*(q - 1))/q**2], [ -(q**2 - 4*q + 3)/q**2, -(q**2 - 4*q + 3)/q**2, 0, -(q - 3)/q, -(q**2 - 4*q + 3)/q, 0, -(q**3 - 9*q**2 + 23*q - 15)/q**2, 0, 2/q, -(2*(q - 1))/q, -q/(q - 1), (4*(q - 1))/q**2], [ ((q - 1)*(q**2 - 4*q + 3))/q**3, -(2*q**2 - 7*q + 3)/q**3, -(q**2 - 4*q + 3)/q**2, 0, -(q**2 - 4*q + 3)/q**2, 0, -(q**3 - 9*q**2 + 23*q - 15)/q**3, 2/q, -(2*(q - 1))/q**2, -(2*(q - 1))/q**2, 1, (4*(q - 1))/q**3], [ 1, 0, 0, 0, 0, 0, 0, -1, 0, 0, 0, 2/q], [ 0, 1, 0, 0, 0, 0, 0, 1, 0, 0, 0, (2*(q - 1))/q], [ 0, 0, 1, 0, 0, 0, 0, 0, -1, 0, 0, 2/q], [ 0, 0, 0, 1, 0, 0, 0, 0, 1, 0, 0, (2*(q - 1))/q], [ 0, 0, 0, 0, 1, 0, 0, 0, 0, -1, 0, 2/q], [ 0, 0, 0, 0, 0, 1, 0, 0, 0, 1, 0, (2*(q - 1))/q], [ 0, 0, 0, 0, 0, 0, 1, 0, 0, 0, 0, 1]])\n",
    "D = sp.Matrix([[ 0, 0, 0, 0, 0, 0, 0, 0, 0, 0, 0, 0], [ 0, 0, 0, 0, 0, 0, 0, 0, 0, 0, 0, 0], [ 0, 0, 0, 0, 0, 0, 0, 0, 0, 0, 0, 0], [ 0, 0, 0, 0, 0, 0, 0, 0, 0, 0, 0, 0], [ 0, 0, 0, 0, 0, 0, 0, 0, 0, 0, 0, 0], [ 0, 0, 0, 0, 0, 0, 0, 0, 0, 0, 0, 0], [ 0, 0, 0, 0, 0, 0, 0, 0, 0, 0, 0, 0], [ 0, 0, 0, 0, 0, 0, 0, q**3 - q**2, 0, 0, 0, 0], [ 0, 0, 0, 0, 0, 0, 0, 0, q**4 - q**3, 0, 0, 0], [ 0, 0, 0, 0, 0, 0, 0, 0, 0, q**4 - q**3, 0, 0], [ 0, 0, 0, 0, 0, 0, 0, 0, 0, 0, q**3, 0], [ 0, 0, 0, 0, 0, 0, 0, 0, 0, 0, 0, q**5 - 2*q**4 + q**3]])\n",
    "P_inv = sp.Matrix([[ -(q**3 - 2*q**2 + q + 2)/(q*(q - 1)**2), -2/(q*(q - 1)**2), -2/(q*(q - 1)**2), -2/(q*(q - 1)**2), -(- q**2 + q + 2)/(q*(q - 1)**2), (3*q**2 - 8*q + 9)/(q*(q - 1)**2), (q - 3)**2/(q*(q - 1)**2), -(2*(q - 3))/(q*(q - 1)**2), -(2*(q - 3))/(q*(q - 1)**2), -(2*(q - 3))/(q*(q - 1)**2), -(2*(q - 3))/(q*(q - 1)**2), -(2*(q**2 - 8*q + 15))/(q*(q - 1)**2)], [ -(- q**2 + q + 2)/(q*(q - 1)), -2/(q*(q - 1)), -2/(q*(q - 1)), -2/(q*(q - 1)), -(q + 2)/(q*(q - 1)), (q - 3)**2/(q*(q - 1)), (q**2 - 4*q + 9)/(q*(q - 1)), -(2*(q - 3))/(q*(q - 1)), -(2*(q - 3))/(q*(q - 1)), -(2*(q - 3))/(q*(q - 1)), -(2*(q - 3))/(q*(q - 1)), -(2*(q**2 - 8*q + 15))/(q*(q - 1))], [ -(q**2 - 2*q + 3)/(q*(q - 1)**2), (q - 3)/(q*(q - 1)**2), -(q**2 - 2*q + 3)/(q*(q - 1)**2), (q - 3)/(q*(q - 1)**2), -(q**2 - 2*q + 3)/(q*(q - 1)**2), -(2*(q - 3))/(q*(q - 1)**2), -(2*(q - 3))/(q*(q - 1)**2), (3*q**2 - 8*q + 9)/(q*(q - 1)**2), (q - 3)**2/(q*(q - 1)**2), -(2*(q - 3))/(q*(q - 1)**2), -(2*(q - 3))/(q*(q - 1)**2), -(2*(q**2 - 8*q + 15))/(q*(q - 1)**2)], [ (q - 3)/(q*(q - 1)), -3/(q*(q - 1)), (q - 3)/(q*(q - 1)), -3/(q*(q - 1)), (q - 3)/(q*(q - 1)), -(2*(q - 3))/(q*(q - 1)), -(2*(q - 3))/(q*(q - 1)), (q - 3)**2/(q*(q - 1)), (q**2 - 4*q + 9)/(q*(q - 1)), -(2*(q - 3))/(q*(q - 1)), -(2*(q - 3))/(q*(q - 1)), -(2*(q**2 - 8*q + 15))/(q*(q - 1))], [ -(q**2 - 2*q + 3)/(q*(q - 1)**2), (q - 3)/(q*(q - 1)**2), (q - 3)/(q*(q - 1)**2), -(q**2 - 2*q + 3)/(q*(q - 1)**2), -(q**2 - 2*q + 3)/(q*(q - 1)**2), -(2*(q - 3))/(q*(q - 1)**2), -(2*(q - 3))/(q*(q - 1)**2), -(2*(q - 3))/(q*(q - 1)**2), -(2*(q - 3))/(q*(q - 1)**2), (3*q**2 - 8*q + 9)/(q*(q - 1)**2), (q - 3)**2/(q*(q - 1)**2), -(2*(q**2 - 8*q + 15))/(q*(q - 1)**2)], [ (q - 3)/(q*(q - 1)), -3/(q*(q - 1)), -3/(q*(q - 1)), (q - 3)/(q*(q - 1)), (q - 3)/(q*(q - 1)), -(2*(q - 3))/(q*(q - 1)), -(2*(q - 3))/(q*(q - 1)), -(2*(q - 3))/(q*(q - 1)), -(2*(q - 3))/(q*(q - 1)), (q - 3)**2/(q*(q - 1)), (q**2 - 4*q + 9)/(q*(q - 1)), -(2*(q**2 - 8*q + 15))/(q*(q - 1))], [ -1/(q - 1)**2, -1/(q - 1)**2, -1/(q - 1)**2, -1/(q - 1)**2, -1/(q - 1)**2, -(q - 3)/(q - 1)**2, -(q - 3)/(q - 1)**2, -(q - 3)/(q - 1)**2, -(q - 3)/(q - 1)**2, -(q - 3)/(q - 1)**2, -(q - 3)/(q - 1)**2, (2*(3*q - 7))/(q - 1)**2], [ -1, 0, 0, 0, 1/(q - 1), -(q - 3)/q, (q - 3)/(q*(q - 1)), 0, 0, 0, 0, 0], [ -1/q, 1/(q*(q - 1)), -1/q, 1/(q*(q - 1)), -1/q, 0, 0, -(q - 3)/q, (q - 3)/(q*(q - 1)), 0, 0, 0], [ -1/q, 1/(q*(q - 1)), 1/(q*(q - 1)), -1/q, -1/q, 0, 0, 0, 0, -(q - 3)/q, (q - 3)/(q*(q - 1)), 0], [ (q - 1)**3/q**3, (q - 1)/q**3, -(q - 1)**2/q**3, -(q - 1)**2/q**3, (q - 1)**3/q**3, 0, 0, 0, 0, 0, 0, 0], [ 1/(q - 1)**2, 1/(q - 1)**2, 1/(q - 1)**2, 1/(q - 1)**2, 1/(q - 1)**2, (q - 3)/(q - 1)**2, (q - 3)/(q - 1)**2, (q - 3)/(q - 1)**2, (q - 3)/(q - 1)**2, (q - 3)/(q - 1)**2, (q - 3)/(q - 1)**2, (q**2 - 8*q + 15)/(q - 1)**2]])"
   ]
  },
  {
   "cell_type": "code",
   "execution_count": 118,
   "metadata": {
    "scrolled": true
   },
   "outputs": [],
   "source": [
    "r = sp.Symbol('r')\n",
    "D_r = D**r\n",
    "D_r[0:7,0:7] = [ [0] * 7 ] * 7"
   ]
  },
  {
   "cell_type": "code",
   "execution_count": 119,
   "metadata": {},
   "outputs": [],
   "source": [
    "# Formula for representation variety\n",
    "formula = (P * D_r * P_inv)[0, 0]\n",
    "\n",
    "# Simplified formula\n",
    "formula_simplified = 2 * q**(2*r - 1) * (q - 1)**r + q**(3*r - 3) * (q - 1)**2 + 4 * q**(3*r - 3) * (q - 1)**r + 4 * q**(3*r - 3) * (q - 1)**(2*r - 2)"
   ]
  },
  {
   "cell_type": "code",
   "execution_count": 120,
   "metadata": {},
   "outputs": [
    {
     "name": "stdout",
     "output_type": "stream",
     "text": [
      "[X_G(N_1)] = 3*q**2 + 1\n",
      "[X_G(N_2)] = 11*q**3*(q - 1)**2\n",
      "[X_G(N_3)] = q**5*(q - 1)**2*(4*q**3 - 4*q**2 + 3*q - 2)\n",
      "[X_G(N_4)] = q**7*(q - 1)**2*(4*q**6 - 16*q**5 + 28*q**4 - 24*q**3 + 11*q**2 - 4*q + 2)\n",
      "[X_G(N_5)] = q**9*(q - 1)**2*(4*q**9 - 24*q**8 + 60*q**7 - 76*q**6 + 48*q**5 - 12*q**4 + 3*q**3 - 6*q**2 + 6*q - 2)\n"
     ]
    }
   ],
   "source": [
    "for i in range(1, 6):\n",
    "    expr = sp.factor(formula_simplified.subs(r, i))\n",
    "    print('[X_G(N_{})] = {}'.format(i, expr))"
   ]
  },
  {
   "cell_type": "markdown",
   "metadata": {},
   "source": [
    "### Check produced values manually"
   ]
  },
  {
   "cell_type": "code",
   "execution_count": null,
   "metadata": {},
   "outputs": [],
   "source": [
    "c_1 = s_KVar_k.compute_class(System(*equations_over_class(A**2, 0), A_vars))\n",
    "print('Class Chi(N_1) = {}'.format(c_1))\n",
    "\n",
    "c_2 = s_KVar_k.compute_class(System(*equations_over_class(A**2 * B**2, 0), A_vars.union(B_vars)))\n",
    "print('Class Chi(N_1) = {}'.format(c_2))"
   ]
  }
 ],
 "metadata": {
  "kernelspec": {
   "display_name": "Python 3",
   "language": "python",
   "name": "python3"
  },
  "language_info": {
   "codemirror_mode": {
    "name": "ipython",
    "version": 3
   },
   "file_extension": ".py",
   "mimetype": "text/x-python",
   "name": "python",
   "nbconvert_exporter": "python",
   "pygments_lexer": "ipython3",
   "version": "3.8.3"
  }
 },
 "nbformat": 4,
 "nbformat_minor": 4
}
