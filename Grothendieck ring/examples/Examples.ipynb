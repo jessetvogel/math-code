{
 "cells": [
  {
   "cell_type": "code",
   "execution_count": 1,
   "metadata": {},
   "outputs": [],
   "source": [
    "import sympy as sp\n",
    "from grothendieck_solver import System, Solver"
   ]
  },
  {
   "cell_type": "markdown",
   "metadata": {},
   "source": [
    "First we define some variables for later use:"
   ]
  },
  {
   "cell_type": "code",
   "execution_count": 2,
   "metadata": {},
   "outputs": [],
   "source": [
    "x, y, z, w = sp.symbols('x y z w')\n",
    "a, b, c, d = sp.symbols('a b c d')"
   ]
  },
  {
   "cell_type": "markdown",
   "metadata": {},
   "source": [
    "We define a variety using the `System` class: `System(list V, list F, list G)` represents the (complex) variety given by $f = 0$ and $g \\ne 0$ for all $f \\in F$ and $g \\in G$. Furthermore, $V$ is a list of affine coordinates.\n",
    "\n",
    "For example, the following system represents the subvariety of $\\mathbb{A}^2_\\mathbb{C}$ given by $xy = 1$ and $x \\ne 2$."
   ]
  },
  {
   "cell_type": "code",
   "execution_count": 3,
   "metadata": {},
   "outputs": [],
   "source": [
    "system = System([x, y], [x*y - 1 ], [ x - 2 ])"
   ]
  },
  {
   "cell_type": "markdown",
   "metadata": {},
   "source": [
    "To compute its class in the Grothendieck ring, we first construct a `Solver` object."
   ]
  },
  {
   "cell_type": "code",
   "execution_count": 4,
   "metadata": {},
   "outputs": [],
   "source": [
    "solver = Solver()"
   ]
  },
  {
   "cell_type": "markdown",
   "metadata": {},
   "source": [
    "Now we compute the class of our system as follows:"
   ]
  },
  {
   "cell_type": "code",
   "execution_count": 5,
   "metadata": {},
   "outputs": [
    {
     "data": {
      "text/latex": [
       "$\\displaystyle q - 2$"
      ],
      "text/plain": [
       "q - 2"
      ]
     },
     "execution_count": 5,
     "metadata": {},
     "output_type": "execute_result"
    }
   ],
   "source": [
    "solver.compute_grothendieck_class(system)"
   ]
  },
  {
   "cell_type": "markdown",
   "metadata": {},
   "source": [
    "where $q = [\\mathbb{A}^1_\\mathbb{C}]$ denotes the class of the (complex) affine line."
   ]
  },
  {
   "cell_type": "markdown",
   "metadata": {},
   "source": [
    "We give some more examples. The class of the multiplicatie group scheme $\\mathbb{G}_m$ is given by"
   ]
  },
  {
   "cell_type": "code",
   "execution_count": 6,
   "metadata": {
    "scrolled": true
   },
   "outputs": [
    {
     "data": {
      "text/latex": [
       "$\\displaystyle q - 1$"
      ],
      "text/plain": [
       "q - 1"
      ]
     },
     "execution_count": 6,
     "metadata": {},
     "output_type": "execute_result"
    }
   ],
   "source": [
    "system_Gm = System([ x ], [], [ x ])\n",
    "solver.compute_grothendieck_class(system_Gm)"
   ]
  },
  {
   "cell_type": "markdown",
   "metadata": {},
   "source": [
    "The class of 4-dimensional affine space $\\mathbb{A}^4_\\mathbb{C}$ is given by"
   ]
  },
  {
   "cell_type": "code",
   "execution_count": 7,
   "metadata": {},
   "outputs": [
    {
     "data": {
      "text/latex": [
       "$\\displaystyle q^{4}$"
      ],
      "text/plain": [
       "q**4"
      ]
     },
     "execution_count": 7,
     "metadata": {},
     "output_type": "execute_result"
    }
   ],
   "source": [
    "system_A4 = System([ x, y, z, w ], [], [])\n",
    "solver.compute_grothendieck_class(system_A4)"
   ]
  },
  {
   "cell_type": "markdown",
   "metadata": {},
   "source": [
    "The class of the algebraic group $\\text{SL}_2(\\mathbb{C})$ is given by"
   ]
  },
  {
   "cell_type": "code",
   "execution_count": 8,
   "metadata": {},
   "outputs": [
    {
     "data": {
      "text/latex": [
       "$\\displaystyle q^{3} - q$"
      ],
      "text/plain": [
       "q**3 - q"
      ]
     },
     "execution_count": 8,
     "metadata": {},
     "output_type": "execute_result"
    }
   ],
   "source": [
    "system_SL2C = System([ a, b, c, d ], [ a*d - b*c - 1 ], [])\n",
    "solver.compute_grothendieck_class(system_SL2C)"
   ]
  },
  {
   "cell_type": "markdown",
   "metadata": {},
   "source": [
    "The class of the algebraic group $\\text{GL}_2(\\mathbb{C})$ is given by"
   ]
  },
  {
   "cell_type": "code",
   "execution_count": 9,
   "metadata": {},
   "outputs": [
    {
     "data": {
      "text/latex": [
       "$\\displaystyle q \\left(q^{3} - q^{2} - q + 1\\right)$"
      ],
      "text/plain": [
       "q*(q**3 - q**2 - q + 1)"
      ]
     },
     "execution_count": 9,
     "metadata": {},
     "output_type": "execute_result"
    }
   ],
   "source": [
    "system_GL2C = System([ a, b, c, d ], [], [ a*d - b*c ])\n",
    "solver.compute_grothendieck_class(system_GL2C)"
   ]
  }
 ],
 "metadata": {
  "kernelspec": {
   "display_name": "Python 3",
   "language": "python",
   "name": "python3"
  },
  "language_info": {
   "codemirror_mode": {
    "name": "ipython",
    "version": 3
   },
   "file_extension": ".py",
   "mimetype": "text/x-python",
   "name": "python",
   "nbconvert_exporter": "python",
   "pygments_lexer": "ipython3",
   "version": "3.9.9"
  }
 },
 "nbformat": 4,
 "nbformat_minor": 4
}
